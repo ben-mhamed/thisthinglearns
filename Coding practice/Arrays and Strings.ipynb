{
 "cells": [
  {
   "cell_type": "code",
   "execution_count": 16,
   "metadata": {
    "collapsed": true
   },
   "outputs": [],
   "source": [
    "from IPython.core.debugger import set_trace"
   ]
  },
  {
   "cell_type": "markdown",
   "metadata": {},
   "source": [
    "### TO-DO\n",
    "- Find a way to initialize a dictionary optimally\n",
    "- Debug and fix _Program 3_"
   ]
  },
  {
   "cell_type": "code",
   "execution_count": 29,
   "metadata": {},
   "outputs": [
    {
     "name": "stdout",
     "output_type": "stream",
     "text": [
      "True\n"
     ]
    }
   ],
   "source": [
    "# 1. Program to check if a string has all unique characters\n",
    "def is_unique(input_string):\n",
    "    charMap = {}\n",
    "    for char in input_string:\n",
    "        charMap[char] = 0\n",
    "    for char in input_string:\n",
    "        charMap[char] += 1    \n",
    "\n",
    "    for key in charMap:\n",
    "        if charMap[key] > 1:\n",
    "            return False\n",
    "        \n",
    "    return True\n",
    "\n",
    "print(is_unique('Sahil'))"
   ]
  },
  {
   "cell_type": "code",
   "execution_count": 40,
   "metadata": {},
   "outputs": [
    {
     "name": "stdout",
     "output_type": "stream",
     "text": [
      "True\n",
      "True\n",
      "False\n",
      "True\n"
     ]
    }
   ],
   "source": [
    "# 2. Program to check if one string is a permutation of other\n",
    "def isPermutation(s1, s2):\n",
    "    charMap1 = {}\n",
    "    charMap2 = {}\n",
    "    if len(s1) != len(s2):\n",
    "        return False\n",
    "    else:\n",
    "        for char in s1:\n",
    "            charMap1[char] = 0\n",
    "        for char in s1:\n",
    "            charMap1[char] += 1 \n",
    "        for char in s2:\n",
    "            charMap2[char] = 0\n",
    "        for char in s2:\n",
    "            charMap2[char] += 1 \n",
    "            \n",
    "        for key in charMap1:\n",
    "            if key in charMap2 and charMap1[key] == charMap2[key]:\n",
    "                flag = True\n",
    "            else:\n",
    "                return False\n",
    "        if flag:\n",
    "            return True\n",
    "        \n",
    "# Run test-cases\n",
    "test_cases = [('tactic', 'citcat'), ('act', 'cat'), ('artist','sadist'), ('random', 'mandor')]\n",
    "for inputs in test_cases:\n",
    "    print(isPermutation(inputs[0], inputs[1]))\n"
   ]
  },
  {
   "cell_type": "code",
   "execution_count": 7,
   "metadata": {},
   "outputs": [
    {
     "data": {
      "text/plain": [
       "'Mr John Smith\\x00   '"
      ]
     },
     "execution_count": 7,
     "metadata": {},
     "output_type": "execute_result"
    }
   ],
   "source": [
    "# 3. Program to replace all spaces in a string with '%20'\n",
    "def urlify(input_string, true_length):\n",
    "    space_count = 0\n",
    "    for i in range(true_length):\n",
    "        if input_string[i] == \" \":\n",
    "            space_count += 1\n",
    "            \n",
    "    index = true_length + space_count*2\n",
    "    if true_length < len(input_string):\n",
    "        input_string[true_length] = '\\0'\n",
    "    \n",
    "    for i in range(true_length-1, 0):\n",
    "        if input_string[i] == \" \":\n",
    "            input_string[index-1] = '0'\n",
    "            input_string[index-2] = '2'\n",
    "            input_string[index-3] = '%'\n",
    "            index -= 3\n",
    "        else:\n",
    "            input_string[index-1] = input_string[i]\n",
    "            index -= 1\n",
    "            \n",
    "    return ''.join(input_string)\n",
    "\n",
    "input_string = list('Mr John Smith    ')\n",
    "urlify(input_string, 13)"
   ]
  },
  {
   "cell_type": "code",
   "execution_count": null,
   "metadata": {
    "collapsed": true
   },
   "outputs": [],
   "source": []
  }
 ],
 "metadata": {
  "kernelspec": {
   "display_name": "Python 3",
   "language": "python",
   "name": "python3"
  },
  "language_info": {
   "codemirror_mode": {
    "name": "ipython",
    "version": 3
   },
   "file_extension": ".py",
   "mimetype": "text/x-python",
   "name": "python",
   "nbconvert_exporter": "python",
   "pygments_lexer": "ipython3",
   "version": "3.6.3"
  }
 },
 "nbformat": 4,
 "nbformat_minor": 2
}
